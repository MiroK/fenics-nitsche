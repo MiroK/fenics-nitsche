{
 "metadata": {
  "name": "",
  "signature": "sha256:4d318f00579064dbfa1acc4607a1f898bd788e744dcda069f0a4c2bd8370dbd2"
 },
 "nbformat": 3,
 "nbformat_minor": 0,
 "worksheets": [
  {
   "cells": [
    {
     "cell_type": "code",
     "collapsed": false,
     "input": [
      "# Poisson problem on the unit circle\n",
      "\n",
      "import sympy as sy\n",
      "\n",
      "x, y = sy.symbols('x y')\n",
      "u = sy.sin(sy.pi*(x**2 + y**2))*sy.cos(sy.pi*(x-y))\n",
      "\n",
      "laplace = lambda u: sy.diff(u, x, 2) + sy.diff(u, y, 2)\n",
      "grad = lambda u: [sy.diff(u, x, 1), sy.diff(u, y, 1)]\n",
      "div = lambda u: sy.diff(u[0], x, 1) + sy.diff(u[1], y, 1)\n",
      "\n",
      "f = -laplace(u)\n",
      "f.simplify()\n",
      "\n",
      "n = [x, y]\n",
      "h = (grad(u)[0]*n[0] + grad(u)[1]*n[1]) \n",
      "h.simplify()\n"
     ],
     "language": "python",
     "metadata": {},
     "outputs": [
      {
       "metadata": {},
       "output_type": "pyout",
       "prompt_number": 1,
       "text": [
        "pi*(x*(2*x*cos(pi*(x - y))*cos(pi*(x**2 + y**2)) - sin(pi*(x - y))*sin(pi*(x**2 + y**2))) + y*(2*y*cos(pi*(x - y))*cos(pi*(x**2 + y**2)) + sin(pi*(x - y))*sin(pi*(x**2 + y**2))))"
       ]
      }
     ],
     "prompt_number": 1
    },
    {
     "cell_type": "code",
     "collapsed": false,
     "input": [
      "u = x*y + sy.sin(sy.pi*x)*sy.sin(sy.pi*y)\n",
      "f = -laplace(u)\n",
      "u_y = grad(u)[1]"
     ],
     "language": "python",
     "metadata": {},
     "outputs": [],
     "prompt_number": 19
    },
    {
     "cell_type": "code",
     "collapsed": false,
     "input": [
      "-u_y"
     ],
     "language": "python",
     "metadata": {},
     "outputs": [
      {
       "metadata": {},
       "output_type": "pyout",
       "prompt_number": 21,
       "text": [
        "-x - pi*sin(pi*x)*cos(pi*y)"
       ]
      }
     ],
     "prompt_number": 21
    },
    {
     "cell_type": "code",
     "collapsed": false,
     "input": [
      "u = [sy.sin(sy.pi*y), 0]\n",
      "p = x + sy.cos(sy.pi*x)\n",
      "re = sy.Symbol('re')\n",
      "f = [-laplace(u[0])/re + grad(p)[0], -laplace(u[1])/re + grad(p)[1]]\n",
      "\n",
      "print u\n",
      "print p\n",
      "print f\n",
      "print div(u)"
     ],
     "language": "python",
     "metadata": {},
     "outputs": [
      {
       "output_type": "stream",
       "stream": "stdout",
       "text": [
        "[sin(pi*y), 0]\n",
        "x + cos(pi*x)\n",
        "[-pi*sin(pi*x) + 1 + pi**2*sin(pi*y)/re, 0]\n",
        "0\n"
       ]
      }
     ],
     "prompt_number": 50
    },
    {
     "cell_type": "code",
     "collapsed": false,
     "input": [
      "sy.integrate(p*2, (x, 0, 1))"
     ],
     "language": "python",
     "metadata": {},
     "outputs": [
      {
       "metadata": {},
       "output_type": "pyout",
       "prompt_number": 34,
       "text": [
        "1"
       ]
      }
     ],
     "prompt_number": 34
    },
    {
     "cell_type": "code",
     "collapsed": false,
     "input": [
      "from dolfin import *\n",
      "\n",
      "mesh = UnitSquareMesh(20, 20)\n",
      "V = VectorFunctionSpace(mesh, 'CG', 1)\n",
      "\n",
      "u = Expression(('exp(-x[1])*sin(2*pi*x[1])', '0'))\n",
      "\n",
      "plot(u, mesh=mesh, interactive=True)"
     ],
     "language": "python",
     "metadata": {},
     "outputs": [
      {
       "output_type": "stream",
       "stream": "stderr",
       "text": [
        "DEBUG:UFL:No integrals left after transformation, returning empty form.\n"
       ]
      },
      {
       "output_type": "stream",
       "stream": "stderr",
       "text": [
        "DEBUG:FFC:Reusing form from cache.\n"
       ]
      },
      {
       "metadata": {},
       "output_type": "pyout",
       "prompt_number": 46,
       "text": [
        "<dolfin.cpp.io.VTKPlotter; proxy of <Swig Object of type 'boost::shared_ptr< dolfin::VTKPlotter > *' at 0xb1d4de90> >"
       ]
      }
     ],
     "prompt_number": 46
    },
    {
     "cell_type": "code",
     "collapsed": false,
     "input": [
      "n = FacetNormal(mesh)\n",
      "print assemble(dot(u, n)*ds, mesh=mesh)"
     ],
     "language": "python",
     "metadata": {},
     "outputs": [
      {
       "output_type": "stream",
       "stream": "stderr",
       "text": [
        "INFO:FFC:Adjusting missing element domain to Domain(Cell('triangle', 2), 'triangle_multiverse', 2, 2).\n"
       ]
      },
      {
       "output_type": "stream",
       "stream": "stderr",
       "text": [
        "INFO:FFC:Adjusting element degree from ? to 1\n"
       ]
      },
      {
       "output_type": "stream",
       "stream": "stderr",
       "text": [
        "INFO:FFC:Adjusting missing element domain to Domain(Cell('triangle', 2), 'triangle_multiverse', 2, 2).\n"
       ]
      },
      {
       "output_type": "stream",
       "stream": "stderr",
       "text": [
        "INFO:FFC:Adjusting element degree from ? to 1\n"
       ]
      },
      {
       "output_type": "stream",
       "stream": "stderr",
       "text": [
        "INFO:FFC:Adjusting missing element domain to Domain(Cell('triangle', 2), 'triangle_multiverse', 2, 2).\n"
       ]
      },
      {
       "output_type": "stream",
       "stream": "stderr",
       "text": [
        "INFO:FFC:Adjusting element degree from ? to 1\n"
       ]
      },
      {
       "output_type": "stream",
       "stream": "stderr",
       "text": [
        "DEBUG:FFC:Reusing form from cache.\n"
       ]
      },
      {
       "output_type": "stream",
       "stream": "stdout",
       "text": [
        "0.0\n"
       ]
      }
     ],
     "prompt_number": 33
    },
    {
     "cell_type": "code",
     "collapsed": false,
     "input": [
      "k, l = sy.symbols('k l')\n",
      "\n",
      "f = 2*sy.sin(sy.pi*x)*sy.sin(sy.pi*x)\n",
      "sy.integrate(f, (x, 0, 1))"
     ],
     "language": "python",
     "metadata": {},
     "outputs": [
      {
       "metadata": {},
       "output_type": "pyout",
       "prompt_number": 6,
       "text": [
        "1"
       ]
      }
     ],
     "prompt_number": 6
    },
    {
     "cell_type": "code",
     "collapsed": false,
     "input": [
      "e = sy.Symbol('e')"
     ],
     "language": "python",
     "metadata": {},
     "outputs": [],
     "prompt_number": 8
    },
    {
     "cell_type": "code",
     "collapsed": false,
     "input": [
      "f = sy.sin(k*sy.pi*x)\n",
      "sy.integrate(f, (x, 0.5-e, 0.5+e))"
     ],
     "language": "python",
     "metadata": {},
     "outputs": [
      {
       "metadata": {},
       "output_type": "pyout",
       "prompt_number": 11,
       "text": [
        "Piecewise((0, pi*k == 0), (cos(pi*k*(-e + 0.5))/(pi*k) - cos(pi*k*(e + 0.5))/(pi*k), True))"
       ]
      }
     ],
     "prompt_number": 11
    },
    {
     "cell_type": "code",
     "collapsed": false,
     "input": [
      "g = sy.cos(sy.pi*k*(-e + 0.5))/(sy.pi*k) - sy.cos(sy.pi*k*(e + 0.5))/(sy.pi*k)\n",
      "g.simplify()"
     ],
     "language": "python",
     "metadata": {},
     "outputs": [
      {
       "metadata": {},
       "output_type": "pyout",
       "prompt_number": 13,
       "text": [
        "2*sin(0.5*pi*k)*sin(pi*e*k)/(pi*k)"
       ]
      }
     ],
     "prompt_number": 13
    },
    {
     "cell_type": "code",
     "collapsed": false,
     "input": [
      "k, l = sy.symbols('k l')\n",
      "F = sy.exp(-l*sy.pi*x)*sy.sin(k*sy.pi*x)\n",
      "sy.integrate(F, (x, 0, 1))"
     ],
     "language": "python",
     "metadata": {},
     "outputs": [
      {
       "metadata": {},
       "output_type": "pyout",
       "prompt_number": 3,
       "text": [
        "Piecewise((0, And(k == 0, l == 0)), (-I*(exp(-pi*l)*sinh(pi*l)/2 + exp(-pi*l)*cosh(pi*l)/2 + exp(-pi*l)*cosh(pi*l)/(2*pi*l)) + I/(2*pi*l), k == -I*l), (I*(exp(-pi*l)*sinh(pi*l)/2 + exp(-pi*l)*cosh(pi*l)/2 + exp(-pi*l)*cosh(pi*l)/(2*pi*l)) - I/(2*pi*l), k == I*l), (-k*cos(pi*k)/(pi*k**2*exp(pi*l) + pi*l**2*exp(pi*l)) + k/(pi*k**2 + pi*l**2) - l*sin(pi*k)/(pi*k**2*exp(pi*l) + pi*l**2*exp(pi*l)), True))"
       ]
      }
     ],
     "prompt_number": 3
    },
    {
     "cell_type": "code",
     "collapsed": false,
     "input": [],
     "language": "python",
     "metadata": {},
     "outputs": []
    }
   ],
   "metadata": {}
  }
 ]
}