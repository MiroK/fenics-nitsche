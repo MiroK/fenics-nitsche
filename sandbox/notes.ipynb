{
 "metadata": {
  "name": "",
  "signature": "sha256:3606bb41385243cf7e87bbf8e2ce656089e4d0bda2ea4dda84e3e092e56faa4e"
 },
 "nbformat": 3,
 "nbformat_minor": 0,
 "worksheets": [
  {
   "cells": [
    {
     "cell_type": "heading",
     "level": 1,
     "metadata": {},
     "source": [
      "Computing analytical solutions to test problems with SymPY"
     ]
    },
    {
     "cell_type": "code",
     "collapsed": false,
     "input": [
      "# Poisson problem on the unit circle\n",
      "\n",
      "import sympy as sy\n",
      "\n",
      "x, y = sy.symbols('x y')\n",
      "u = sy.sin(sy.pi*(x**2 + y**2))*sy.cos(sy.pi*(x-y))\n",
      "\n",
      "laplace = lambda u: sy.diff(u, x, 2) + sy.diff(u, y, 2)\n",
      "\n",
      "def grad(u):\n",
      "    if isinstance(u, list):\n",
      "        return [grad(comp) for comp in u]\n",
      "    else:\n",
      "        return [sy.diff(u, x, 1), sy.diff(u, y, 1)]\n",
      "div = lambda u: sy.diff(u[0], x, 1) + sy.diff(u[1], y, 1)\n",
      "\n",
      "f = -laplace(u)\n",
      "f.simplify()\n",
      "\n",
      "n = [x, y]\n",
      "h = (grad(u)[0]*n[0] + grad(u)[1]*n[1]) \n",
      "h.simplify()\n"
     ],
     "language": "python",
     "metadata": {},
     "outputs": [
      {
       "metadata": {},
       "output_type": "pyout",
       "prompt_number": 1,
       "text": [
        "pi*(x*(2*x*cos(pi*(x - y))*cos(pi*(x**2 + y**2)) - sin(pi*(x - y))*sin(pi*(x**2 + y**2))) + y*(2*y*cos(pi*(x - y))*cos(pi*(x**2 + y**2)) + sin(pi*(x - y))*sin(pi*(x**2 + y**2))))"
       ]
      }
     ],
     "prompt_number": 1
    },
    {
     "cell_type": "code",
     "collapsed": false,
     "input": [
      "u = x*y + sy.sin(sy.pi*x)*sy.sin(sy.pi*y)\n",
      "f = -laplace(u)\n",
      "u_y = grad(u)"
     ],
     "language": "python",
     "metadata": {},
     "outputs": [],
     "prompt_number": 17
    },
    {
     "cell_type": "code",
     "collapsed": false,
     "input": [
      "u_y"
     ],
     "language": "python",
     "metadata": {},
     "outputs": [
      {
       "metadata": {},
       "output_type": "pyout",
       "prompt_number": 19,
       "text": [
        "[y + pi*sin(pi*y)*cos(pi*x), x + pi*sin(pi*x)*cos(pi*y)]"
       ]
      }
     ],
     "prompt_number": 19
    },
    {
     "cell_type": "code",
     "collapsed": false,
     "input": [
      "u = [sy.sin(sy.pi*y), 0]\n",
      "#u_x = y + sy.sin(sy.pi*y)\n",
      "#u_y = x + sy.sin(sy.pi*x)\n",
      "p = x + sy.cos(sy.pi*x)\n",
      "re = sy.Symbol('re')\n",
      "f = [-laplace(u[0])/re + grad(p)[0], -laplace(u[1])/re + grad(p)[1]]\n",
      "\n",
      "print u\n",
      "print p\n",
      "print f\n",
      "print div(u)\n",
      "print sy.Matrix(grad(u))\n"
     ],
     "language": "python",
     "metadata": {},
     "outputs": [
      {
       "output_type": "stream",
       "stream": "stdout",
       "text": [
        "[sin(pi*y), 0]\n",
        "x + cos(pi*x)\n",
        "[-pi*sin(pi*x) + 1 + pi**2*sin(pi*y)/re, 0]\n",
        "0\n",
        "Matrix([[0, pi*cos(pi*y)], [0, 0]])\n"
       ]
      }
     ],
     "prompt_number": 34
    },
    {
     "cell_type": "code",
     "collapsed": false,
     "input": [
      "n = sy.Matrix([[1], [0]])\n",
      "print sy.Matrix(grad(u)).dot(n)"
     ],
     "language": "python",
     "metadata": {},
     "outputs": [
      {
       "output_type": "stream",
       "stream": "stdout",
       "text": [
        "[0, 0]\n"
       ]
      }
     ],
     "prompt_number": 41
    },
    {
     "cell_type": "code",
     "collapsed": false,
     "input": [
      "k, l = sy.symbols('k l')\n",
      "\n",
      "f = 2*sy.sin(sy.pi*x)*sy.sin(sy.pi*x)\n",
      "sy.integrate(f, (x, 0, 1))"
     ],
     "language": "python",
     "metadata": {},
     "outputs": [
      {
       "metadata": {},
       "output_type": "pyout",
       "prompt_number": 6,
       "text": [
        "1"
       ]
      }
     ],
     "prompt_number": 6
    },
    {
     "cell_type": "code",
     "collapsed": false,
     "input": [
      "e = sy.Symbol('e')"
     ],
     "language": "python",
     "metadata": {},
     "outputs": [],
     "prompt_number": 8
    },
    {
     "cell_type": "code",
     "collapsed": false,
     "input": [
      "f = sy.sin(k*sy.pi*x)\n",
      "sy.integrate(f, (x, 0.5-e, 0.5+e))"
     ],
     "language": "python",
     "metadata": {},
     "outputs": [
      {
       "metadata": {},
       "output_type": "pyout",
       "prompt_number": 11,
       "text": [
        "Piecewise((0, pi*k == 0), (cos(pi*k*(-e + 0.5))/(pi*k) - cos(pi*k*(e + 0.5))/(pi*k), True))"
       ]
      }
     ],
     "prompt_number": 11
    },
    {
     "cell_type": "code",
     "collapsed": false,
     "input": [
      "g = sy.cos(sy.pi*k*(-e + 0.5))/(sy.pi*k) - sy.cos(sy.pi*k*(e + 0.5))/(sy.pi*k)\n",
      "g.simplify()"
     ],
     "language": "python",
     "metadata": {},
     "outputs": [
      {
       "metadata": {},
       "output_type": "pyout",
       "prompt_number": 13,
       "text": [
        "2*sin(0.5*pi*k)*sin(pi*e*k)/(pi*k)"
       ]
      }
     ],
     "prompt_number": 13
    },
    {
     "cell_type": "code",
     "collapsed": false,
     "input": [
      "k, l = sy.symbols('k l')\n",
      "F = sy.exp(-l*sy.pi*x)*sy.sin(k*sy.pi*x)\n",
      "sy.integrate(F, (x, 0, 1))"
     ],
     "language": "python",
     "metadata": {},
     "outputs": [
      {
       "metadata": {},
       "output_type": "pyout",
       "prompt_number": 3,
       "text": [
        "Piecewise((0, And(k == 0, l == 0)), (-I*(exp(-pi*l)*sinh(pi*l)/2 + exp(-pi*l)*cosh(pi*l)/2 + exp(-pi*l)*cosh(pi*l)/(2*pi*l)) + I/(2*pi*l), k == -I*l), (I*(exp(-pi*l)*sinh(pi*l)/2 + exp(-pi*l)*cosh(pi*l)/2 + exp(-pi*l)*cosh(pi*l)/(2*pi*l)) - I/(2*pi*l), k == I*l), (-k*cos(pi*k)/(pi*k**2*exp(pi*l) + pi*l**2*exp(pi*l)) + k/(pi*k**2 + pi*l**2) - l*sin(pi*k)/(pi*k**2*exp(pi*l) + pi*l**2*exp(pi*l)), True))"
       ]
      }
     ],
     "prompt_number": 3
    },
    {
     "cell_type": "code",
     "collapsed": false,
     "input": [
      "A = sy.Matrix([[x, 0], [0, x]])"
     ],
     "language": "python",
     "metadata": {},
     "outputs": [],
     "prompt_number": 23
    },
    {
     "cell_type": "code",
     "collapsed": false,
     "input": [
      "A.dot(sy.Matrix([[1], [0]]))"
     ],
     "language": "python",
     "metadata": {},
     "outputs": [
      {
       "metadata": {},
       "output_type": "pyout",
       "prompt_number": 24,
       "text": [
        "[x, 0]"
       ]
      }
     ],
     "prompt_number": 24
    },
    {
     "cell_type": "code",
     "collapsed": false,
     "input": [
      "u = [y + sy.sin(sy.pi*y), x + sy.sin(sy.pi*x)]\n",
      "p = x + sy.cos(sy.pi*x)\n",
      "\n",
      "G = grad(u)\n",
      "n = [1, 0]\n",
      "print G\n",
      "print p*n[0] - G[0][0]\n",
      "print p*n[1] - G[1][0]\n"
     ],
     "language": "python",
     "metadata": {},
     "outputs": [
      {
       "output_type": "stream",
       "stream": "stdout",
       "text": [
        "[[0, pi*cos(pi*y) + 1], [pi*cos(pi*x) + 1, 0]]\n",
        "x + cos(pi*x)\n",
        "-pi*cos(pi*x) - 1\n"
       ]
      }
     ],
     "prompt_number": 10
    },
    {
     "cell_type": "code",
     "collapsed": false,
     "input": [
      "k = sy.Symbol('k')\n",
      "\n",
      "f = sy.sin(k*sy.pi*x)\n",
      "sy.integrate(f, (x, 1/4., 3/4.))"
     ],
     "language": "python",
     "metadata": {},
     "outputs": [
      {
       "metadata": {},
       "output_type": "pyout",
       "prompt_number": 17,
       "text": [
        "Piecewise((0, pi*k == 0), (cos(0.25*pi*k)/(pi*k) - cos(0.75*pi*k)/(pi*k), True))"
       ]
      }
     ],
     "prompt_number": 17
    },
    {
     "cell_type": "code",
     "collapsed": false,
     "input": [
      "l = sy.Symbol('l')\n",
      "\n",
      "g = sy.sin(k*sy.pi*x)*sy.sin(l*sy.pi*x)\n",
      "sy.integrate(g, (x, 0, 1))"
     ],
     "language": "python",
     "metadata": {},
     "outputs": [
      {
       "metadata": {},
       "output_type": "pyout",
       "prompt_number": 18,
       "text": [
        "Piecewise((0, And(k == 0, l == 0)), (-sin(pi*l)**2/2 - cos(pi*l)**2/2 + sin(pi*l)*cos(pi*l)/(2*pi*l), k == -l), (sin(pi*l)**2/2 + cos(pi*l)**2/2 - sin(pi*l)*cos(pi*l)/(2*pi*l), k == l), (-k*sin(pi*l)*cos(pi*k)/(pi*k**2 - pi*l**2) + l*sin(pi*k)*cos(pi*l)/(pi*k**2 - pi*l**2), True))"
       ]
      }
     ],
     "prompt_number": 18
    },
    {
     "cell_type": "code",
     "collapsed": false,
     "input": [
      "e = sy.Symbol('e')\n",
      "ff= sy.cos((0.5-e)*sy.pi*k)/(sy.pi*k) - sy.cos((0.5+e)*sy.pi*k)/(sy.pi*k)"
     ],
     "language": "python",
     "metadata": {},
     "outputs": [],
     "prompt_number": 23
    },
    {
     "cell_type": "code",
     "collapsed": false,
     "input": [
      "ff.simplify()"
     ],
     "language": "python",
     "metadata": {},
     "outputs": [
      {
       "metadata": {},
       "output_type": "pyout",
       "prompt_number": 24,
       "text": [
        "2*sin(0.5*pi*k)*sin(pi*e*k)/(pi*k)"
       ]
      }
     ],
     "prompt_number": 24
    },
    {
     "cell_type": "code",
     "collapsed": false,
     "input": [
      "# Poisson Babuska\n",
      "\n",
      "from sympy import *\n",
      "\n",
      "x, y = symbols('x y')\n",
      "\n",
      "laplace = lambda u: diff(u, x, 2) + diff(u, y, 2)\n",
      "\n",
      "u = x*y + sin(pi*x)*cos(2*pi*y)\n",
      "print -1*laplace(u) + u"
     ],
     "language": "python",
     "metadata": {},
     "outputs": [
      {
       "output_type": "stream",
       "stream": "stdout",
       "text": [
        "x*y + sin(pi*x)*cos(2*pi*y) + 5*pi**2*sin(pi*x)*cos(2*pi*y)\n"
       ]
      }
     ],
     "prompt_number": 7
    },
    {
     "cell_type": "code",
     "collapsed": false,
     "input": [],
     "language": "python",
     "metadata": {},
     "outputs": []
    }
   ],
   "metadata": {}
  }
 ]
}